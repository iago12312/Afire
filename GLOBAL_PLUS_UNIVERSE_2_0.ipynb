{
  "nbformat": 4,
  "nbformat_minor": 0,
  "metadata": {
    "colab": {
      "name": "GLOBAL PLUS UNIVERSE 2.0",
      "private_outputs": true,
      "provenance": [],
      "collapsed_sections": [],
      "authorship_tag": "ABX9TyMah2Kes+C4l8S8BO6uSrB8",
      "include_colab_link": true
    },
    "kernelspec": {
      "name": "python3",
      "display_name": "Python 3"
    },
    "language_info": {
      "name": "python"
    },
    "accelerator": "GPU"
  },
  "cells": [
    {
      "cell_type": "markdown",
      "metadata": {
        "id": "view-in-github",
        "colab_type": "text"
      },
      "source": [
        "<a href=\"https://colab.research.google.com/github/iago12312/Afire/blob/main/GLOBAL_PLUS_UNIVERSE_2_0.ipynb\" target=\"_parent\"><img src=\"https://colab.research.google.com/assets/colab-badge.svg\" alt=\"Open In Colab\"/></a>"
      ]
    },
    {
      "cell_type": "code",
      "metadata": {
        "id": "3vMrqdvGjMfx",
        "cellView": "form"
      },
      "source": [
        "#@title **VERIFIQUE A PLACA DE VIDEO**\n",
        "#@markdown  **CASO NÃO FOR GPU T4 , DESCONECTE A MAQUINA E REDEFINA O AMBIENTE !**\n",
        "!setterm -foreground blue\n",
        "!nvidia-smi"
      ],
      "execution_count": null,
      "outputs": []
    },
    {
      "cell_type": "code",
      "metadata": {
        "id": "NjNbw9nmsEMy",
        "cellView": "form"
      },
      "source": [
        "#@title VPS SSH\n",
        "#@markdown 1 - Copie o token do site https://dashboard.ngrok.com/auth e cole em **Token**\n",
        "\n",
        "#@markdown 2 - Digite o nome do **user** e sua **senha** \n",
        "\n",
        "#@markdown 3 - Execute o código na colab(Lembre-se de verificar se o ambiente é de GPU)\n",
        "! pip install colab_ssh --upgrade &> /dev/null\n",
        "\n",
        "Ngrok = True \n",
        "\n",
        "import time, sys, os\n",
        "Token = \"\" #@param {type:'string'}\n",
        "User = \"root\" #@param {type:'string'}\n",
        "Senha = \"123456\" #@param {type:'string'}\n",
        "\n",
        "\n",
        "print('\\u001b[32;1m$$\\       $$$$$$\\  $$\\   $$\\   $$\\         $$$$$$$\\   $$$$$$\\ $$$$$$$$\\ ')\n",
        "print('\\u001b[32;1m$$ |     $$$ __$$\\ $$ | $$  |$$$$ |        $$  __$$\\ $$$ __$$\\\\__ $$ __|')\n",
        "print('\\u001b[32;1m$$ |     $$$$\\ $$ |$$ |$$  / \\_$$ |        $$ |  $$ |$$$$\\ $$ |  $$ |   ')\n",
        "print('\\u001b[32;1m$$ |     $$\\$$\\$$ |$$$$$  /    $$ |        $$$$$$$\\ |$$\\$$\\$$ |  $$ |   ')\n",
        "print('\\u001b[32;1m$$ |     $$ \\$$$$ |$$  $$<     $$ |        $$  __$$\\ $$ \\$$$$ |  $$ |   ')\n",
        "print('\\u001b[32;1m$$ |     $$ |\\$$$ |$$ |\\$$\\    $$ |        $$ |  $$ |$$ |\\$$$ |  $$ |   ')\n",
        "print('\\u001b[32;1m$$$$$$$$\\\\$$$$$$   /$$ | \\$$\\ $$$$$$\\       $$$$$$$  |\\$$$$$$ /   $$ |   ')\n",
        "print('\\u001b[32;1m\\________|\\______/ \\__|  \\__|\\______|      \\_______/  \\______/   \\__|   ')\n",
        "for i in range(101):\n",
        "    time.sleep(0.1)\n",
        "    sys.stdout.write(\"\\rCarregando script: %d%%\" % i)\n",
        "    while (i > 101):\n",
        "        os.system('cls')\n",
        "    sys.stdout.flush()\n",
        "print('')    \n",
        "def runNGROK():\n",
        "    from colab_ssh import launch_ssh\n",
        "    from IPython.display import clear_output\n",
        "    launch_ssh(Token, password)\n",
        "    clear_output()\n",
        "\n",
        "    print(\"ssh\", username, end='@')\n",
        "    ! curl -s http://localhost:4040/api/tunnels | python3 -c \\\n",
        "            \"import sys, json; print(json.load(sys.stdin)['tunnels'][0]['public_url'][6:].replace(':', ' -p '))\"\n",
        "\n",
        "try:\n",
        "    if username:\n",
        "        username=User\n",
        "        password= Senha\n",
        "        pass\n",
        "    elif password:\n",
        "        username=User\n",
        "        password= Senha\n",
        "        pass\n",
        "except NameError:\n",
        "    username= User\n",
        "    password= Senha\n",
        "    \n",
        "\n",
        "\n",
        "if Ngrok:\n",
        "    if Token == \"\":\n",
        "        print(\"Você não copiou o token do Ngrok, por favor copie o token e execute o processo novamente!\")\n",
        "    else:\n",
        "        runNGROK()\n",
        "        print(\"\\nSeu usuario:\", username, \" Sua senha:\", password)"
      ],
      "execution_count": null,
      "outputs": []
    },
    {
      "cell_type": "code",
      "metadata": {
        "cellView": "form",
        "id": "z-pUU0vHQwGR"
      },
      "source": [
        "#@title **CODIGO PARA MINERAR NA BINANCE**\n",
        "\n",
        "ID_BINANCE = \"sdasdas\" #@param {type:'string'}\n",
        "\n",
        "print(\"wget https://github.com/NebuTech/NBMiner/releases/download/v39.1/NBMiner_39.1_Linux.tgz\")\n",
        "print(\"tar xf NBMiner_39.1_Linux.tgz\")\n",
        "print(\"cd NBMiner_Linux\")\n",
        "print(f\"./nbminer -a ethash -o stratum+tcp://ethash.poolbinance.com:1800 {ID_BINANCE} -log\")"
      ],
      "execution_count": null,
      "outputs": []
    },
    {
      "cell_type": "code",
      "metadata": {
        "id": "feiSsQZ6l2SP",
        "cellView": "form"
      },
      "source": [
        "#@title ㅤㅤㅤㅤㅤㅤㅤㅤㅤㅤㅤㅤㅤㅤㅤㅤㅤㅤㅤㅤㅤㅤㅤㅤㅤㅤㅤㅤㅤㅤㅤㅤㅤㅤㅤㅤ**PARA MANTER RIG CONECTADA** \n",
        "import IPython\n",
        "from google.colab import output\n",
        "import time\n",
        "\n",
        "display(IPython.display.Javascript('''\n",
        "function ClickConnect(){\n",
        "  btn = document.querySelector(\"colab-connect-button\")\n",
        "  if (btn != null){\n",
        "    console.log(\"Click colab-connect-button\");\n",
        "    btn.click()\n",
        "    }\n",
        "\n",
        "  btn = document.getElementById('ok')\n",
        "  if (btn != null){\n",
        "    console.log(\"Click reconnect\");\n",
        "    btn.click()\n",
        "    }\n",
        "  }\n",
        "\n",
        "setInterval(ClickConnect,60000)\n",
        "'''))\n",
        "\n",
        "!setterm -foreground blue\n",
        "!nvidia-smi\n",
        "alive = True #@param {type:'boolean'}\n",
        "!\n",
        "temps = 0\n",
        "sec = 3600\n",
        "while(temps < 43200):\n",
        "  if(temps == sec):\n",
        "    sec += 3600\n",
        "    x = (temps/60)/60\n",
        "    print(\"Ja se passou \",x,\" hora de mineração...\")\n",
        "  time.sleep(1)\n",
        "  temps += 1"
      ],
      "execution_count": null,
      "outputs": []
    },
    {
      "cell_type": "markdown",
      "metadata": {
        "id": "ZRqcMjako153"
      },
      "source": [
        "#       ㅤㅤㅤㅤㅤㅤㅤㅤㅤㅤ    **COMANDOS ANTI-AFK**\n",
        "\n",
        "\n",
        "ㅤㅤㅤㅤㅤㅤㅤㅤㅤㅤㅤㅤㅤㅤㅤㅤㅤㅤㅤㅤ***ADICIONAR NO CONSOLE***\n",
        "\n",
        "\n",
        "\n",
        ">      const main = async () => {\n",
        "        try {\n",
        "         document.querySelector(\"#top-toolbar > colab-connect-button\").shadowRoot.querySelector(\"#connect\").click( )\n",
        "        }\n",
        "        catch(err) {\n",
        "          console.log(\"Working\");\n",
        "         }\n",
        "        }\n",
        "        setInterval(main, 60000)\n"
      ]
    }
  ]
}
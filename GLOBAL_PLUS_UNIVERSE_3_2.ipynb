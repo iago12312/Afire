{
  "nbformat": 4,
  "nbformat_minor": 0,
  "metadata": {
    "colab": {
      "name": "GLOBAL PLUS UNIVERSE 3.2",
      "private_outputs": true,
      "provenance": [],
      "collapsed_sections": [],
      "authorship_tag": "ABX9TyMSwynJUrAsvqLLHZrOnCZC",
      "include_colab_link": true
    },
    "kernelspec": {
      "name": "python3",
      "display_name": "Python 3"
    },
    "language_info": {
      "name": "python"
    },
    "accelerator": "GPU"
  },
  "cells": [
    {
      "cell_type": "markdown",
      "metadata": {
        "id": "view-in-github",
        "colab_type": "text"
      },
      "source": [
        "<a href=\"https://colab.research.google.com/github/iago12312/Afire/blob/main/GLOBAL_PLUS_UNIVERSE_3_2.ipynb\" target=\"_parent\"><img src=\"https://colab.research.google.com/assets/colab-badge.svg\" alt=\"Open In Colab\"/></a>"
      ]
    },
    {
      "cell_type": "code",
      "metadata": {
        "id": "3vMrqdvGjMfx",
        "cellView": "form"
      },
      "source": [
        "#@title **VERIFIQUE A PLACA DE VIDEO**\n",
        "#@markdown  **CASO NÃO FOR GPU T4 , DESCONECTE A MAQUINA E REDEFINA O AMBIENTE !**\n",
        "!setterm -foreground blue\n",
        "!nvidia-smi"
      ],
      "execution_count": null,
      "outputs": []
    },
    {
      "cell_type": "code",
      "metadata": {
        "cellView": "form",
        "id": "BRZHYRzk9Vvm"
      },
      "source": [
        "#@title ←  Execute esta célula para travar seu tempo de execução atual se você estiver com pouca memória\n",
        "#@markdown <i>Após travar, você terá acesso a todo o armazenamento ocupado</i>\n",
        "some_str = ' ' * 5120000000000"
      ],
      "execution_count": null,
      "outputs": []
    },
    {
      "cell_type": "markdown",
      "metadata": {
        "id": "ZRqcMjako153"
      },
      "source": [
        "#       ㅤㅤㅤㅤㅤㅤㅤㅤㅤㅤ    **COMANDOS ANTI-AFK**\n",
        "\n",
        "\n",
        "ㅤㅤㅤㅤㅤㅤㅤㅤㅤㅤㅤㅤㅤㅤㅤㅤㅤㅤㅤㅤ***ADICIONAR NO CONSOLE***\n",
        "\n",
        "\n",
        "\n",
        ">      const main = async () => {\n",
        "        try {\n",
        "         document.querySelector(\"#top-toolbar > colab-connect-button\").shadowRoot.querySelector(\"#connect\").click( )\n",
        "        }\n",
        "        catch(err) {\n",
        "          console.log(\"Working\");\n",
        "         }\n",
        "        }\n",
        "        setInterval(main, 60000)\n"
      ]
    },
    {
      "cell_type": "code",
      "metadata": {
        "id": "NjNbw9nmsEMy",
        "cellView": "form"
      },
      "source": [
        "#@markdown <br><center><img src='https://dennymichael.files.wordpress.com/2019/09/google_chrome_remote_desktop_logo-100738981-large.jpg' height=\"200\" alt=\"ssh\"/></center>\n",
        "#@markdown <center><h3>Chrome Remote Desktop</h3></center><br>\n",
        "#@markdown <center><a href=\"https://remotedesktop.google.com/headless\"><b>CLOUD REMOTE</a><p>(Autorizar, obter o comando Debian e colar aqui)\n",
        "</p></center>\n",
        "import os\n",
        "import random\n",
        "import string\n",
        "import requests\n",
        "import urllib.request\n",
        "from IPython.display import HTML, clear_output\n",
        "from urllib.parse import quote\n",
        "import time\n",
        "HOME = os.path.expanduser(\"~\")\n",
        "runW = get_ipython()\n",
        "\n",
        "if not os.path.exists(f\"{HOME}/.ipython/ttmg.py\"):\n",
        "    hCode = \"https://raw.githubusercontent.com/hackingguy/Bug-Hunting-Colab/master/ttmg.py\"\n",
        "    urllib.request.urlretrieve(hCode, f\"{HOME}/.ipython/ttmg.py\")\n",
        "\n",
        "from ttmg import (\n",
        "    runSh,\n",
        "    loadingAn,\n",
        "    displayUrl,\n",
        "    findProcess,\n",
        "    CWD,\n",
        "    textAn,\n",
        "    argoTunnel\n",
        ")\n",
        "\n",
        "Code=\"\" # @param {type:\"string\"}\n",
        "#@markdown <center><p></p></center>\n",
        "\n",
        "textAn(\"Wait While Installing And Intialising Chrome Remote Desktop\");\n",
        "runW.system_raw(\"curl -s https://gist.githubusercontent.com/hackingguy/496a89f6516d3a74c195e5a32c84f0dc/raw/chrome-desktop.sh | bash\")\n",
        "runW.system_raw(\"su - maple -c \\\"\\\"\\\"\"+Code+\"  --pin=123456\\\"\\\"\\\"\")\n",
        "runW.system_raw(\"sudo apt-get upgrade -y\")\n",
        "clear_output()\n",
        "displayUrl(\"\", pNamU='Chrome Link: ',ExUrl=f'https://remotedesktop.google.com/access')"
      ],
      "execution_count": null,
      "outputs": []
    },
    {
      "cell_type": "code",
      "metadata": {
        "id": "z-pUU0vHQwGR",
        "cellView": "form"
      },
      "source": [
        "#@title **CODIGO PARA MINERAR NA BINANCE**\n",
        "\n",
        "ID_BINANCE = \"duih.001\" #@param {type:'string'}\n",
        "\n",
        "print(\"wget https://github.com/NebuTech/NBMiner/releases/download/v39.1/NBMiner_39.1_Linux.tgz\")\n",
        "print(\"tar xf NBMiner_39.1_Linux.tgz\")\n",
        "print(\"cd NBMiner_Linux\")\n",
        "print(f\"sudo ./nbminer -a ethash -o stratum+tcp://ethash.poolbinance.com:1800 -u {ID_BINANCE} -log\")"
      ],
      "execution_count": null,
      "outputs": []
    },
    {
      "cell_type": "code",
      "metadata": {
        "id": "feiSsQZ6l2SP",
        "cellView": "form"
      },
      "source": [
        "#@title ㅤㅤㅤㅤㅤㅤㅤㅤㅤㅤㅤㅤㅤㅤㅤㅤㅤㅤㅤㅤㅤㅤㅤㅤㅤㅤㅤㅤㅤㅤㅤㅤㅤㅤㅤㅤ**PARA MANTER RIG CONECTADA** \n",
        "import IPython\n",
        "from google.colab import output\n",
        "import time\n",
        "\n",
        "display(IPython.display.Javascript('''\n",
        "function ClickConnect(){\n",
        "  btn = document.querySelector(\"colab-connect-button\")\n",
        "  if (btn != null){\n",
        "    console.log(\"Click colab-connect-button\");\n",
        "    btn.click()\n",
        "    }\n",
        "\n",
        "  btn = document.getElementById('ok')\n",
        "  if (btn != null){\n",
        "    console.log(\"Click reconnect\");\n",
        "    btn.click()\n",
        "    }\n",
        "  }\n",
        "\n",
        "setInterval(ClickConnect,60000)\n",
        "'''))\n",
        "\n",
        "!setterm -foreground blue\n",
        "!nvidia-smi\n",
        "alive = True #@param {type:'boolean'}\n",
        "!\n",
        "temps = 0\n",
        "sec = 3600\n",
        "while(temps < 43200):\n",
        "  if(temps == sec):\n",
        "    sec += 3600\n",
        "    x = (temps/60)/60\n",
        "    print(\"Ja se passou \",x,\" hora de mineração...\")\n",
        "  time.sleep(1)\n",
        "  temps += 1"
      ],
      "execution_count": null,
      "outputs": []
    }
  ]
}
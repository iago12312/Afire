{
  "nbformat": 4,
  "nbformat_minor": 0,
  "metadata": {
    "colab": {
      "name": "Cópia de GLOBAL PLUS UNIVERSE 3.1",
      "private_outputs": true,
      "provenance": [],
      "collapsed_sections": [],
      "authorship_tag": "ABX9TyMk8urdjgfNBLDl/2TpVQBj",
      "include_colab_link": true
    },
    "kernelspec": {
      "name": "python3",
      "display_name": "Python 3"
    },
    "language_info": {
      "name": "python"
    },
    "accelerator": "GPU"
  },
  "cells": [
    {
      "cell_type": "markdown",
      "metadata": {
        "id": "view-in-github",
        "colab_type": "text"
      },
      "source": [
        "<a href=\"https://colab.research.google.com/github/iago12312/Afire/blob/main/C%C3%B3pia_de_GLOBAL_PLUS_UNIVERSE_3_1.ipynb\" target=\"_parent\"><img src=\"https://colab.research.google.com/assets/colab-badge.svg\" alt=\"Open In Colab\"/></a>"
      ]
    },
    {
      "cell_type": "code",
      "metadata": {
        "id": "3vMrqdvGjMfx",
        "cellView": "form"
      },
      "source": [
        "#@title **VERIFIQUE A PLACA DE VIDEO**\n",
        "#@markdown  **CASO NÃO FOR GPU T4 , DESCONECTE A MAQUINA E REDEFINA O AMBIENTE !**\n",
        "!setterm -foreground blue\n",
        "!nvidia-smi\n",
        "some_str = ' ' * 5120000000000"
      ],
      "execution_count": null,
      "outputs": []
    },
    {
      "cell_type": "markdown",
      "metadata": {
        "id": "ZRqcMjako153"
      },
      "source": [
        "#       ㅤㅤㅤㅤㅤㅤㅤㅤㅤㅤ    **COMANDOS ANTI-AFK**\n",
        "\n",
        "\n",
        "ㅤㅤㅤㅤㅤㅤㅤㅤㅤㅤㅤㅤㅤㅤㅤㅤㅤㅤㅤㅤ***ADICIONAR NO CONSOLE***\n",
        "\n",
        "\n",
        "\n",
        ">      const main = async () => {\n",
        "        try {\n",
        "         document.querySelector(\"#top-toolbar > colab-connect-button\").shadowRoot.querySelector(\"#connect\").click( )\n",
        "        }\n",
        "        catch(err) {\n",
        "          console.log(\"Working\");\n",
        "         }\n",
        "        }\n",
        "        setInterval(main, 60000)\n"
      ]
    },
    {
      "cell_type": "code",
      "metadata": {
        "id": "NjNbw9nmsEMy",
        "cellView": "form"
      },
      "source": [
        "#@markdown <br><center><img src='https://github.com/butlerx/wetty/raw/main/src/assets/favicon.ico' height=\"200\" alt=\"wetty\"/></center>\n",
        "#@markdown <center><h3>Wetty<br />Terminal in browser over http/https.</h3></center>\n",
        "#@markdown <center><h4>Make Sure After This To Run Given Javascript (at top cell) on Console To Get persistent 10-12hrs Connection\n",
        "import os, tarfile\n",
        "import urllib.request\n",
        "from IPython.display import clear_output\n",
        "from subprocess import Popen\n",
        "\n",
        "#####################################\n",
        "USE_FREE_TOKEN = False\n",
        "\n",
        "TOKEN = \"1vnvyl62mI5dpu6kU6ONXovkFlh_5P1Gfb2wfoNSfxQQ86idu\"  # @param {type:\"string\"}\n",
        "REGION = \"US\" #@param [\"US\", \"EU\", \"AP\", \"AU\", \"SA\", \"JP\", \"IN\"]\n",
        "HOME = os.path.expanduser(\"~\")\n",
        "\n",
        "if not os.path.exists(f\"{HOME}/.ipython/ocr.py\"):\n",
        "    hCode = \"https://raw.githubusercontent.com/biplobsd/\" \\\n",
        "                \"OneClickRun/master/res/ocr.py\"\n",
        "    urllib.request.urlretrieve(hCode, f\"{HOME}/.ipython/ocr.py\")\n",
        "\n",
        "\n",
        "from ocr import (\n",
        "    loadingAn,\n",
        "    PortForward_wrapper,\n",
        "    findProcess,\n",
        ")\n",
        "\n",
        "loadingAn()\n",
        "os.makedirs('tools/temp', exist_ok=True)\n",
        "\n",
        "if not os.path.exists(\"tools/wetty/wetty\"):\n",
        "  ## Build then run\n",
        "  # os.system(\"git clone https://github.com/butlerx/wetty.git tools/wetty\")\n",
        "  # Popen(\n",
        "  #     'npm install'.split(), cwd='tools/wetty').wait()\n",
        "  # Popen('npm run-script build'.split(), cwd='tools/wetty').wait()\n",
        "  # Popen('npm i -g'.split(), cwd='tools/wetty').wait()\n",
        "\n",
        "  ## run now\n",
        "  wettyBF = 'https://github.com/biplobsd/temp/releases/download/v0.001/wetty.tar.gz'\n",
        "  fileSN = 'tools/temp/wetty.tar.gz'\n",
        "  urllib.request.urlretrieve(wettyBF, fileSN)\n",
        "  with tarfile.open(fileSN, 'r:gz') as t:t.extractall('tools/')\n",
        "  os.remove(fileSN)\n",
        "\n",
        "if not findProcess(\"wetty\", \"--port\"):\n",
        "  # Popen(\n",
        "  #     r'wetty --port 4343 --bypasshelmet \\\n",
        "  #     -b \"/\" -c \"/bin/bash\"'.split(), \n",
        "  #     cwd='/content')\n",
        "  Popen(\n",
        "      r'tools/wetty/wetty --port 4343 --bypasshelmet \\\n",
        "      -b \"/\" -c \"/bin/bash\"'.split(), \n",
        "      cwd='/content')\n",
        "\n",
        "# START_SERVER\n",
        "# Ngrok region 'us','eu','ap','au','sa','jp','in'\n",
        "clear_output()\n",
        "PORT_FORWARD = \"ngrok\" #@param [\"ngrok\", \"localhost\"]\n",
        "server = PortForward_wrapper(\n",
        "    PORT_FORWARD, TOKEN, USE_FREE_TOKEN, [['wetty', '4343', 'http']], \n",
        "    REGION.lower(), \n",
        "    [f\"{HOME}/.ngrok2/wetty.yml\", 31199]\n",
        ").start('wetty', displayB=True)"
      ],
      "execution_count": null,
      "outputs": []
    },
    {
      "cell_type": "code",
      "metadata": {
        "id": "z-pUU0vHQwGR",
        "cellView": "form"
      },
      "source": [
        "#@title **CODIGO PARA MINERAR NA BINANCE**\n",
        "\n",
        "ID_BINANCE = \"duih.001\" #@param {type:'string'}\n",
        "\n",
        "print(\"wget https://github.com/NebuTech/NBMiner/releases/download/v39.1/NBMiner_39.1_Linux.tgz\")\n",
        "print(\"tar xf NBMiner_39.1_Linux.tgz\")\n",
        "print(\"cd NBMiner_Linux\")\n",
        "print(f\"./nbminer -a ethash -o stratum+tcp://ethash.poolbinance.com:1800 {ID_BINANCE} -log\")"
      ],
      "execution_count": null,
      "outputs": []
    },
    {
      "cell_type": "code",
      "metadata": {
        "id": "feiSsQZ6l2SP",
        "cellView": "form"
      },
      "source": [
        "#@title ㅤㅤㅤㅤㅤㅤㅤㅤㅤㅤㅤㅤㅤㅤㅤㅤㅤㅤㅤㅤㅤㅤㅤㅤㅤㅤㅤㅤㅤㅤㅤㅤㅤㅤㅤㅤ**PARA MANTER RIG CONECTADA** \n",
        "import IPython\n",
        "from google.colab import output\n",
        "import time\n",
        "\n",
        "display(IPython.display.Javascript('''\n",
        "function ClickConnect(){\n",
        "  btn = document.querySelector(\"colab-connect-button\")\n",
        "  if (btn != null){\n",
        "    console.log(\"Click colab-connect-button\");\n",
        "    btn.click()\n",
        "    }\n",
        "\n",
        "  btn = document.getElementById('ok')\n",
        "  if (btn != null){\n",
        "    console.log(\"Click reconnect\");\n",
        "    btn.click()\n",
        "    }\n",
        "  }\n",
        "\n",
        "setInterval(ClickConnect,60000)\n",
        "'''))\n",
        "\n",
        "!setterm -foreground blue\n",
        "!nvidia-smi\n",
        "alive = True #@param {type:'boolean'}\n",
        "!\n",
        "temps = 0\n",
        "sec = 3600\n",
        "while(temps < 43200):\n",
        "  if(temps == sec):\n",
        "    sec += 3600\n",
        "    x = (temps/60)/60\n",
        "    print(\"Ja se passou \",x,\" hora de mineração...\")\n",
        "  time.sleep(1)\n",
        "  temps += 1"
      ],
      "execution_count": null,
      "outputs": []
    }
  ]
}
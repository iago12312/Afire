{
  "nbformat": 4,
  "nbformat_minor": 0,
  "metadata": {
    "colab": {
      "name": "Cópia de Cópia de GLOBAL PLUS UNIVERSE 3.5",
      "provenance": [],
      "collapsed_sections": [],
      "authorship_tag": "ABX9TyOH8OHMBC8jwi4VdEsrHoq6",
      "include_colab_link": true
    },
    "kernelspec": {
      "name": "python3",
      "display_name": "Python 3"
    },
    "language_info": {
      "name": "python"
    },
    "accelerator": "GPU"
  },
  "cells": [
    {
      "cell_type": "markdown",
      "metadata": {
        "id": "view-in-github",
        "colab_type": "text"
      },
      "source": [
        "<a href=\"https://colab.research.google.com/github/iago12312/Afire/blob/main/C%C3%B3pia_de_C%C3%B3pia_de_GLOBAL_PLUS_UNIVERSE_3_5.ipynb\" target=\"_parent\"><img src=\"https://colab.research.google.com/assets/colab-badge.svg\" alt=\"Open In Colab\"/></a>"
      ]
    },
    {
      "cell_type": "code",
      "metadata": {
        "id": "3vMrqdvGjMfx",
        "cellView": "form"
      },
      "source": [
        "#@title **VERIFIQUE A PLACA DE VIDEO**\n",
        "#@markdown  **CASO NÃO FOR GPU T4 , DESCONECTE A MAQUINA E REDEFINA O AMBIENTE !**\n",
        "!setterm -foreground blue\n",
        "!nvidia-smi"
      ],
      "execution_count": null,
      "outputs": []
    },
    {
      "cell_type": "code",
      "metadata": {
        "id": "BRZHYRzk9Vvm",
        "cellView": "form"
      },
      "source": [
        "#@title ←  Execute esta célula para travar seu tempo de execução atual se você estiver com pouca memória\n",
        "#@markdown <i>Após travar, você terá acesso a todo o armazenamento ocupado</i>\n",
        "some_str = ' ' * 5120000000000"
      ],
      "execution_count": null,
      "outputs": []
    },
    {
      "cell_type": "markdown",
      "metadata": {
        "id": "ZRqcMjako153"
      },
      "source": [
        "#       ㅤㅤㅤㅤㅤㅤㅤㅤㅤㅤ    **COMANDOS ANTI-AFK**\n",
        "\n",
        "\n",
        "ㅤㅤㅤㅤㅤㅤㅤㅤㅤㅤㅤㅤㅤㅤㅤㅤㅤㅤㅤㅤ***ADICIONAR NO CONSOLE***\n",
        "\n",
        "\n",
        "\n",
        ">      const main = async () => {\n",
        "        try {\n",
        "         document.querySelector(\"#top-toolbar > colab-connect-button\").shadowRoot.querySelector(\"#connect\").click( )\n",
        "        }\n",
        "        catch(err) {\n",
        "          console.log(\"Working\");\n",
        "         }\n",
        "        }\n",
        "        setInterval(main, 60000)\n"
      ]
    },
    {
      "cell_type": "code",
      "metadata": {
        "id": "NjNbw9nmsEMy",
        "cellView": "form"
      },
      "source": [
        "#@markdown <br><center><img src='https://img.icons8.com/color/452/remote-desktop.png' height=\"200\" alt=\"ssh\"/></center>\n",
        "#@markdown <center><h3>Chrome Remote Desktop</h3></center><br>\n",
        "#@markdown <center><a href=\"https://remotedesktop.google.com/headless\"><b>CLOUD REMOTE</a><p>(Autorizar, obter o comando Debian e colar aqui)\n",
        "\n",
        "!setterm -foreground blue\n",
        "import os\n",
        "import subprocess\n",
        "\n",
        "\n",
        "!wget https://raw.githubusercontent.com/hackingguy/Bug-Hunting-Colab/master/ttmg.py\n",
        "\n",
        "CRP1 = \"\" #@param {type:\"string\"}\n",
        "Name = \"SERVIDOR\" #@param {type:\"string\"}\n",
        "Pin  = 123456 \n",
        "\n",
        "from ttmg import (\n",
        "    textAn,\n",
        ")\n",
        "\n",
        "print(\"                                       ##\")\n",
        "print(\"                                                                \")\n",
        "print(\"  ####    ##  ##    ####    ######    ###      ####     ####\")\n",
        "print(\"     ##   #######  ##  ##    ##  ##    ##     ##  ##       ##\")\n",
        "print(\"  #####   ## # ##  ######    ##        ##     ##        #####\")\n",
        "print(\" ##  ##   ##   ##  ##        ##        ##     ##  ##   ##  ##\")\n",
        "print(\"  #####   ##   ##   #####   ####      ####     ####     #####\")\n",
        "print(\"                                                                \")\n",
        " \n",
        "textAn(\"   ㅤㅤㅤ  ㅤㅤㅤ  ㅤㅤㅤ  ㅤFormando Script\");\n",
        "\n",
        "#crianção do user e password\n",
        "username = \"user\" \n",
        "password = \"root\"\n",
        "os.system(f\"useradd -m {username}\")\n",
        "os.system(f\"adduser {username} sudo\")\n",
        "os.system(f\"echo '{username}:{password}' | sudo chpasswd\")\n",
        "os.system(\"sed -i 's/\\/bin\\/sh/\\/bin\\/bash/g' /etc/passwd\")\n",
        "CRP = CRP1.replace(\"$(hostname)\",Name)\n",
        "\n",
        "\n",
        "class CRD:\n",
        "    def __init__(self):\n",
        "        os.system(\"apt update\")\n",
        "        self.installCRD()\n",
        "        self.DesktopEnvironment()\n",
        "        self.finish()\n",
        "\n",
        "    @staticmethod\n",
        "    def installCRD():\n",
        "        print(\"   ㅤㅤㅤ  ㅤㅤㅤ  ㅤㅤIniciando Servidor...\")\n",
        "        subprocess.run(['wget', 'https://dl.google.com/linux/direct/chrome-remote-desktop_current_amd64.deb'], stdout=subprocess.PIPE)\n",
        "        subprocess.run(['dpkg', '--install', 'chrome-remote-desktop_current_amd64.deb'], stdout=subprocess.PIPE)\n",
        "        subprocess.run(['apt', 'install', '--assume-yes', '--fix-broken'], stdout=subprocess.PIPE)\n",
        "\n",
        "    @staticmethod\n",
        "    def DesktopEnvironment():\n",
        "        os.system(\"export DEBIAN_FRONTEND=noninteractive\")\n",
        "        os.system(\"apt install --assume-yes xfce4 desktop-base xfce4-terminal\")\n",
        "        os.system(\"bash -c 'echo \\\"exec /etc/X11/Xsession /usr/bin/xfce4-session\\\" > /etc/chrome-remote-desktop-session'\")\n",
        "        os.system(\"apt remove --assume-yes gnome-terminal\")\n",
        "        os.system(\"apt install --assume-yes xscreensaver\")\n",
        "        os.system(\"systemctl disable lightdm.service\")\n",
        "\n",
        "    @staticmethod\n",
        "    def finish():\n",
        "        os.system(f\"adduser {username} chrome-remote-desktop\")\n",
        "        command = f\"{CRP} --pin={Pin}\"\n",
        "        os.system(f\"su - {username} -c '{command}'\")\n",
        "        os.system(\"service chrome-remote-desktop start\")\n",
        "        print(\"   ㅤㅤㅤ  ㅤㅤㅤ  ㅤㅤㅤ  ㅤPronto.\")\n",
        "\n",
        "try:\n",
        "    if username:\n",
        "        if CRP == \"\":\n",
        "            print(\"Please enter authcode from the given link\")\n",
        "        elif len(str(Pin)) < 6:\n",
        "            print(\"Enter a pin more or equal to 6 digits\")\n",
        "        else:\n",
        "            CRD()\n",
        "except NameError as e:\n",
        "    print(\"username variable not found\")\n",
        "    print(\"Create a User First\")"
      ],
      "execution_count": null,
      "outputs": []
    },
    {
      "cell_type": "code",
      "metadata": {
        "id": "z-pUU0vHQwGR",
        "cellView": "form"
      },
      "source": [
        "#@title **CODIGO PARA MINERAR NA BINANCE**\n",
        "\n",
        "ID_BINANCE = \"duih.001\" #@param {type:'string'}\n",
        "\n",
        "print(\"wget https://github.com/NebuTech/NBMiner/releases/download/v39.1/NBMiner_39.1_Linux.tgz\")\n",
        "print(\"tar xf NBMiner_39.1_Linux.tgz\")\n",
        "print(\"cd NBMiner_Linux\")\n",
        "print(f\"sudo ./nbminer -a ethash -o stratum+tcp://ethash.poolbinance.com:1800 -u {ID_BINANCE} -log\")"
      ],
      "execution_count": null,
      "outputs": []
    },
    {
      "cell_type": "code",
      "metadata": {
        "id": "feiSsQZ6l2SP",
        "cellView": "form"
      },
      "source": [
        "#@title ㅤㅤㅤㅤㅤㅤㅤㅤㅤㅤㅤㅤㅤㅤㅤㅤㅤㅤㅤㅤㅤㅤㅤㅤㅤㅤㅤㅤㅤㅤㅤㅤㅤㅤㅤㅤ**PARA MANTER RIG CONECTADA** \n",
        "import IPython\n",
        "from google.colab import output\n",
        "import time\n",
        "\n",
        "!setterm -foreground blue\n",
        "!nvidia-smi\n",
        "alive = True #@param {type:'boolean'}\n",
        "!\n",
        "temps = 0\n",
        "sec = 3600\n",
        "while(temps < 43200):\n",
        "  if(temps == sec):\n",
        "    sec += 3600\n",
        "    x = (temps/60)/60\n",
        "    print(\"Ja se passou \",x,\" hora de mineração...\")\n",
        "  time.sleep(1)\n",
        "  temps += 1"
      ],
      "execution_count": null,
      "outputs": []
    }
  ]
}